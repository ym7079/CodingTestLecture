{
  "nbformat": 4,
  "nbformat_minor": 0,
  "metadata": {
    "colab": {
      "name": "실전문제_1_곱하기 혹은 더하기.ipynb",
      "provenance": [],
      "collapsed_sections": [],
      "mount_file_id": "1Lbh5NJXt1t7u9A7r5Ke8vSAyF2D6JTa7",
      "authorship_tag": "ABX9TyNq8tOUByrp8ZVoabEfAf9n",
      "include_colab_link": true
    },
    "kernelspec": {
      "name": "python3",
      "display_name": "Python 3"
    },
    "language_info": {
      "name": "python"
    }
  },
  "cells": [
    {
      "cell_type": "markdown",
      "metadata": {
        "id": "view-in-github",
        "colab_type": "text"
      },
      "source": [
        "<a href=\"https://colab.research.google.com/github/ym7079/CodingTestLecture/blob/main/02_Greedy%20Algorithm/%EC%8B%A4%EC%A0%84%EB%AC%B8%EC%A0%9C_1_%EA%B3%B1%ED%95%98%EA%B8%B0_%ED%98%B9%EC%9D%80_%EB%8D%94%ED%95%98%EA%B8%B0.ipynb\" target=\"_parent\"><img src=\"https://colab.research.google.com/assets/colab-badge.svg\" alt=\"Open In Colab\"/></a>"
      ]
    },
    {
      "cell_type": "markdown",
      "source": [
        "#곱하기 혹은 더하기\n",
        "\n",
        "## <문제> 곱하기 혹은 더하기 문제 설명\n",
        "\n",
        "- 각 자리가 숫자(0부터 9)로만 이루어진 문자열 S가 주어졌을 때, 왼쪽부터 오른쪽으로 하나씩 모든 숫자를 확인하며 숫자 사이에 'x'혹은 '+'연산자를 넣어 결과적으로 **만들어질 수 있는 가장 큰 수를 구하는 프로그램**을 작성하세요.</br>\n",
        "단, +보다 x를 먼저 계산하는 일반적인 방식과는 달리, **모든 연산은 왼쪽에서부터 순서대로** 이루어진다고 가정합니다.\n",
        "\n",
        "- 예를 들어 02984라는 문자열로 만들 수 있는 가장 큰 수는 </br>\n",
        "((((0+2) x 9) x 8) x 4) = 576입니다.</br>\n",
        "또한 만들어질 수 있는 가장 큰 수는 항상 20억 이하의 정수가 되도록 입력이 주어집니다.</br>"
      ],
      "metadata": {
        "id": "-kzwfehKDLd8"
      }
    },
    {
      "cell_type": "markdown",
      "source": [
        "### 난이도: 1 | 풀이시간: 30분 | 시간제한: 1초 | 메모리 제한: 128MB\n",
        "#### 입력조건\n",
        "- 첫째 줄에 여러 개의 숫자로 구성된 하나의 문자열 S가 주어집니다.(1 <= S의 길이 <= 20)\n",
        "\n",
        "#### 출력조건\n",
        "- 첫째 줄에 만들어질 수 있는 가장 큰 수를 출력합니다.\n",
        "\n",
        "#### 입력예시 1: 02984     |     출력예시: 576\n",
        "#### 입력예시 2: 567     |     출력예시: 210"
      ],
      "metadata": {
        "id": "0lcf5IyeF24V"
      }
    },
    {
      "cell_type": "markdown",
      "source": [
        "### 풀이"
      ],
      "metadata": {
        "id": "MCalQtLFGvbn"
      }
    },
    {
      "cell_type": "code",
      "source": [
        "a = '123'\n",
        "a = [int(i) for i in a]\n",
        "a"
      ],
      "metadata": {
        "colab": {
          "base_uri": "https://localhost:8080/"
        },
        "id": "O7gGpZcuIgig",
        "outputId": "cfe9c361-ecbf-4707-9ea8-82ca34e66844"
      },
      "execution_count": 3,
      "outputs": [
        {
          "output_type": "execute_result",
          "data": {
            "text/plain": [
              "[1, 2, 3]"
            ]
          },
          "metadata": {},
          "execution_count": 3
        }
      ]
    },
    {
      "cell_type": "code",
      "execution_count": 8,
      "metadata": {
        "colab": {
          "base_uri": "https://localhost:8080/"
        },
        "id": "UrDDtfHn79Pb",
        "outputId": "05124e14-d179-494a-f2d3-474cbb09ea47"
      },
      "outputs": [
        {
          "output_type": "execute_result",
          "data": {
            "text/plain": [
              "210"
            ]
          },
          "metadata": {},
          "execution_count": 8
        }
      ],
      "source": [
        "def func(S):\n",
        "    result = 0\n",
        "    is_first = True\n",
        "    for i in S:\n",
        "        i = int(i)\n",
        "\n",
        "        if is_first:\n",
        "            result += i\n",
        "            is_first = False\n",
        "            continue\n",
        "\n",
        "        if result <= 1 or i <= 1:\n",
        "            result += i\n",
        "        else:\n",
        "            result *= i\n",
        "\n",
        "    return result\n",
        "\n",
        "func('02984')\n",
        "func('567')"
      ]
    },
    {
      "cell_type": "markdown",
      "source": [
        "### 답안예시"
      ],
      "metadata": {
        "id": "7cM-q7YRGxZe"
      }
    },
    {
      "cell_type": "code",
      "source": [
        "def answer(S):\n",
        "    #첫 번째 문자를 숫자로 변경하여 대입\n",
        "    result = int(S[0])\n",
        "\n",
        "    for i in range(1,len(S)):\n",
        "        #두 수 중에서 하나라도 '0' 혹은 '1'인 경우, 곱하기보다는 더하기 수행\n",
        "        num = int(S[i])\n",
        "\n",
        "        if result <= 1 or num <= 1:\n",
        "            result += num\n",
        "        else:\n",
        "            result *= num\n",
        "\n",
        "    return result\n",
        "\n",
        "answer('02984')\n",
        "answer('567')"
      ],
      "metadata": {
        "colab": {
          "base_uri": "https://localhost:8080/"
        },
        "id": "YYt1SFAmGy4t",
        "outputId": "a9e7f430-90f9-4eab-98e7-08c6866d898a"
      },
      "execution_count": 10,
      "outputs": [
        {
          "output_type": "execute_result",
          "data": {
            "text/plain": [
              "210"
            ]
          },
          "metadata": {},
          "execution_count": 10
        }
      ]
    }
  ]
}